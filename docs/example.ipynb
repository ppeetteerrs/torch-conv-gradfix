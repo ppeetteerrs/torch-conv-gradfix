{
 "cells": [
  {
   "cell_type": "code",
   "execution_count": 1,
   "metadata": {},
   "outputs": [],
   "source": [
    "from torch_conv_gradfix import enable, disable, conv2d, conv_transpose2d, no_weight_grad\n",
    "import torch\n",
    "\n",
    "transpose = True\n",
    "N, SIZE = 2, 8\n",
    "IN_C, OUT_C = 3, 8\n",
    "KERNEL, STRIDE, PADDING, DILATION, GROUPS = 3, 2, 2, 1, 1\n",
    "device = \"cuda\"\n",
    "input = torch.randn(\n",
    "    N, IN_C, SIZE, SIZE, dtype=torch.double, requires_grad=True, device=device\n",
    ")\n",
    "weight = torch.randn(\n",
    "    OUT_C, IN_C, KERNEL, KERNEL, dtype=torch.double, requires_grad=True, device=device\n",
    ")\n",
    "trans_weight = torch.randn(\n",
    "    IN_C, OUT_C, KERNEL, KERNEL, dtype=torch.double, requires_grad=True, device=device\n",
    ")\n",
    "bias = torch.randn(OUT_C, dtype=torch.double, requires_grad=True, device=device)\n"
   ]
  },
  {
   "cell_type": "code",
   "execution_count": 2,
   "metadata": {},
   "outputs": [],
   "source": [
    "# When torch_conv_gradfix is enabled, no_weight_grad() stops the weight gradient calculations\n",
    "conv_out = conv2d(\n",
    "    input,\n",
    "    weight,\n",
    "    bias,\n",
    "    stride=STRIDE,\n",
    "    padding=PADDING,\n",
    "    dilation=DILATION,\n",
    "    groups=GROUPS,\n",
    ")\n",
    "input.grad = weight.grad = trans_weight.grad = bias.grad = None\n",
    "with no_weight_grad():\n",
    "    conv_out.sum().backward()\n",
    "assert input.grad is not None and weight.grad is None"
   ]
  },
  {
   "cell_type": "code",
   "execution_count": 3,
   "metadata": {},
   "outputs": [],
   "source": [
    "# When torch_conv_gradfix is disabled, conv2d and conv_transpose2d are default PyTorch implementations\n",
    "disable()\n",
    "conv_trans_out = conv_transpose2d(\n",
    "    input,\n",
    "    trans_weight,\n",
    "    bias,\n",
    "    stride=STRIDE,\n",
    "    padding=PADDING,\n",
    "    dilation=DILATION,\n",
    "    groups=GROUPS,\n",
    ")\n",
    "input.grad = weight.grad = trans_weight.grad = bias.grad = None\n",
    "with no_weight_grad():\n",
    "    conv_trans_out.sum().backward()\n",
    "assert input.grad is not None and trans_weight.grad is not None\n"
   ]
  }
 ],
 "metadata": {
  "interpreter": {
   "hash": "2a2f233191b82b47233b539c7573f64d79f81d06fd7b9f837f44e82bffd665fe"
  },
  "kernelspec": {
   "display_name": "Python 3.8.12 ('user')",
   "language": "python",
   "name": "python3"
  },
  "language_info": {
   "codemirror_mode": {
    "name": "ipython",
    "version": 3
   },
   "file_extension": ".py",
   "mimetype": "text/x-python",
   "name": "python",
   "nbconvert_exporter": "python",
   "pygments_lexer": "ipython3",
   "version": "3.8.12"
  },
  "orig_nbformat": 4
 },
 "nbformat": 4,
 "nbformat_minor": 2
}
